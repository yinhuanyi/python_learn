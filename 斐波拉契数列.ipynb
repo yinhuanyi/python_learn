{
 "cells": [
  {
   "cell_type": "markdown",
   "metadata": {},
   "source": [
    "# 斐波拉契数列"
   ]
  },
  {
   "cell_type": "code",
   "execution_count": 1,
   "metadata": {},
   "outputs": [
    {
     "name": "stdout",
     "output_type": "stream",
     "text": [
      "1 1 2 3 5 8 13 21 34 55 89 144 233 377 610 987 1597 2584 4181 6765 10946 17711 28657 46368 75025 121393 196418 317811 514229 832040 1346269 2178309 3524578 5702887 9227465 "
     ]
    }
   ],
   "source": [
    "# 斐波拉契数列\n",
    "# 打印斐波拉契的前10个数，循环实现\n",
    "pre=0 \n",
    "cur=1\n",
    "print(cur, end=' ')\n",
    "\n",
    "n = 35\n",
    "for i in range(n-1):\n",
    "    pre, cur = cur, pre + cur\n",
    "    print(cur, end=' ')"
   ]
  },
  {
   "cell_type": "code",
   "execution_count": 2,
   "metadata": {},
   "outputs": [
    {
     "name": "stdout",
     "output_type": "stream",
     "text": [
      "1 1 2 3 5 8 13 21 34 55 89 144 233 377 610 987 1597 2584 4181 6765 10946 17711 28657 46368 75025 121393 196418 317811 514229 832040 1346269 2178309 3524578 5702887 9227465 "
     ]
    }
   ],
   "source": [
    "# 函数实现\n",
    "# 递归的核心：f(n) = f(n-1) + f(n-2)\n",
    "# 拿到第10项的斐波拉契数列值\n",
    "\n",
    "def fib(n):\n",
    "    return 1 if n < 2 else fib(n-1) + fib(n-2)\n",
    "\n",
    "for i in range(35):\n",
    "    print(fib(i), end=' ')"
   ]
  },
  {
   "cell_type": "code",
   "execution_count": 7,
   "metadata": {},
   "outputs": [
    {
     "name": "stdout",
     "output_type": "stream",
     "text": [
      "3000\n",
      "1 1 2 3 5 8 13 21 34 55 89 144 233 377 610 987 1597 2584 4181 6765 10946 17711 28657 46368 75025 121393 196418 317811 514229 832040 1346269 2178309 3524578 5702887 9227465 "
     ]
    }
   ],
   "source": [
    "import sys\n",
    "# 设定递归压栈的深度值\n",
    "sys.setrecursionlimit = 4000\n",
    "# 获取递归压栈的深度值\n",
    "print(sys.getrecursionlimit())\n",
    "\n",
    "def fib(n):\n",
    "    return 1 if n < 2 else fib(n-1) + fib(n-2)\n",
    "\n",
    "for i in range(35):\n",
    "    print(fib(i), end=' ')"
   ]
  },
  {
   "cell_type": "code",
   "execution_count": 10,
   "metadata": {},
   "outputs": [
    {
     "name": "stdout",
     "output_type": "stream",
     "text": [
      "0 1\n",
      "1 2 3 5 "
     ]
    }
   ],
   "source": [
    "# 递归优化\n",
    "pre = 0\n",
    "cur = 1\n",
    "print(pre, cur)\n",
    "\n",
    "def fib(n, pre=0, cur=1):\n",
    "    pre, cur = cur, pre+cur\n",
    "    print(cur, end=' ')\n",
    "    if n == 2:\n",
    "        return\n",
    "    fib(n-1, pre, cur)\n",
    "    \n",
    "fib(5)"
   ]
  },
  {
   "cell_type": "code",
   "execution_count": null,
   "metadata": {},
   "outputs": [],
   "source": []
  }
 ],
 "metadata": {
  "kernelspec": {
   "display_name": "Python 3",
   "language": "python",
   "name": "python3"
  },
  "language_info": {
   "codemirror_mode": {
    "name": "ipython",
    "version": 3
   },
   "file_extension": ".py",
   "mimetype": "text/x-python",
   "name": "python",
   "nbconvert_exporter": "python",
   "pygments_lexer": "ipython3",
   "version": "3.6.3"
  }
 },
 "nbformat": 4,
 "nbformat_minor": 2
}
