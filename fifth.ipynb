{
 "cells": [
  {
   "cell_type": "markdown",
   "metadata": {},
   "source": [
    "### **`（一）元组`(与列表类似，与很多方法都是一样的，就是元组中元素不可变，但是：元组的第一层元素不能发生变化，第二层如果不是元组可以改变)**"
   ]
  },
  {
   "cell_type": "markdown",
   "metadata": {},
   "source": [
    "元组是不可变的"
   ]
  },
  {
   "cell_type": "code",
   "execution_count": 1,
   "metadata": {},
   "outputs": [],
   "source": [
    "t = tuple(range(10))"
   ]
  },
  {
   "cell_type": "code",
   "execution_count": 2,
   "metadata": {},
   "outputs": [
    {
     "data": {
      "text/plain": [
       "(0, 1, 2, 3, 4, 5, 6, 7, 8, 9)"
      ]
     },
     "execution_count": 2,
     "metadata": {},
     "output_type": "execute_result"
    }
   ],
   "source": [
    "t"
   ]
  },
  {
   "cell_type": "code",
   "execution_count": 5,
   "metadata": {},
   "outputs": [],
   "source": [
    "t1 = (1, 1, 1, 3, 4, 5, 6, 7, 8, 9,)"
   ]
  },
  {
   "cell_type": "code",
   "execution_count": 6,
   "metadata": {},
   "outputs": [
    {
     "data": {
      "text/plain": [
       "(1, 1, 1, 3, 4, 5, 6, 7, 8, 9)"
      ]
     },
     "execution_count": 6,
     "metadata": {},
     "output_type": "execute_result"
    }
   ],
   "source": [
    "t1"
   ]
  },
  {
   "cell_type": "code",
   "execution_count": 7,
   "metadata": {},
   "outputs": [
    {
     "name": "stdout",
     "output_type": "stream",
     "text": [
      "1\n",
      "1\n",
      "1\n",
      "3\n",
      "4\n",
      "5\n",
      "6\n",
      "7\n",
      "8\n",
      "9\n"
     ]
    }
   ],
   "source": [
    "for i in t1:\n",
    "    print(i)"
   ]
  },
  {
   "cell_type": "code",
   "execution_count": 8,
   "metadata": {},
   "outputs": [
    {
     "data": {
      "text/plain": [
       "1"
      ]
     },
     "execution_count": 8,
     "metadata": {},
     "output_type": "execute_result"
    }
   ],
   "source": [
    "t1[1]"
   ]
  },
  {
   "cell_type": "code",
   "execution_count": 19,
   "metadata": {},
   "outputs": [],
   "source": [
    "t2 = (1,2,[1,2],4)"
   ]
  },
  {
   "cell_type": "code",
   "execution_count": 20,
   "metadata": {},
   "outputs": [
    {
     "ename": "TypeError",
     "evalue": "'tuple' object does not support item assignment",
     "output_type": "error",
     "traceback": [
      "\u001b[0;31m---------------------------------------------------------------------------\u001b[0m",
      "\u001b[0;31mTypeError\u001b[0m                                 Traceback (most recent call last)",
      "\u001b[0;32m<ipython-input-20-27e950223ed3>\u001b[0m in \u001b[0;36m<module>\u001b[0;34m()\u001b[0m\n\u001b[0;32m----> 1\u001b[0;31m \u001b[0mt2\u001b[0m\u001b[0;34m[\u001b[0m\u001b[0;36m2\u001b[0m\u001b[0;34m]\u001b[0m \u001b[0;34m=\u001b[0m \u001b[0;36m1\u001b[0m\u001b[0;34m\u001b[0m\u001b[0m\n\u001b[0m",
      "\u001b[0;31mTypeError\u001b[0m: 'tuple' object does not support item assignment"
     ]
    }
   ],
   "source": [
    "t2[2] = 1"
   ]
  },
  {
   "cell_type": "code",
   "execution_count": 21,
   "metadata": {},
   "outputs": [],
   "source": [
    "t2[2][1] = 100"
   ]
  },
  {
   "cell_type": "code",
   "execution_count": 22,
   "metadata": {},
   "outputs": [
    {
     "data": {
      "text/plain": [
       "(1, 2, [1, 100], 4)"
      ]
     },
     "execution_count": 22,
     "metadata": {},
     "output_type": "execute_result"
    }
   ],
   "source": [
    "t2"
   ]
  },
  {
   "cell_type": "markdown",
   "metadata": {},
   "source": [
    "### **（二）命名元组**"
   ]
  },
  {
   "cell_type": "code",
   "execution_count": 23,
   "metadata": {},
   "outputs": [],
   "source": [
    "from collections import namedtuple\n"
   ]
  },
  {
   "cell_type": "code",
   "execution_count": 24,
   "metadata": {},
   "outputs": [],
   "source": [
    "# 这个namedtuple类创建了一个类Point，创建这个类的时候，第一个参数是'Point'，就是取个名字；第二个参数给Point这个类定义了两个属性，一个是x，一个是y\n",
    "Point = namedtuple('Point', 'x,y')"
   ]
  },
  {
   "cell_type": "code",
   "execution_count": 25,
   "metadata": {},
   "outputs": [],
   "source": [
    "# 给类创建一个对象，且给这个对象传递两个值，1和2\n",
    "p1 = Point(1,2)"
   ]
  },
  {
   "cell_type": "code",
   "execution_count": 28,
   "metadata": {},
   "outputs": [
    {
     "data": {
      "text/plain": [
       "1"
      ]
     },
     "execution_count": 28,
     "metadata": {},
     "output_type": "execute_result"
    }
   ],
   "source": [
    "p1.x"
   ]
  },
  {
   "cell_type": "code",
   "execution_count": 27,
   "metadata": {},
   "outputs": [
    {
     "data": {
      "text/plain": [
       "2"
      ]
     },
     "execution_count": 27,
     "metadata": {},
     "output_type": "execute_result"
    }
   ],
   "source": [
    "p1.y"
   ]
  },
  {
   "cell_type": "markdown",
   "metadata": {},
   "source": [
    "### （三）冒泡排序算法（在冒泡排序中，第二种排序考虑到了，如果此时的序列已经是我们想要的序列，也就是在某一次排序过程中，没有任何的元素发生变化，此时就是排好序的了，因此可以终止后续过程）\n",
    "### 冒泡排序的时间复杂度是n²"
   ]
  },
  {
   "cell_type": "code",
   "execution_count": 23,
   "metadata": {},
   "outputs": [
    {
     "name": "stdout",
     "output_type": "stream",
     "text": [
      "--------------------------------------------------生成随机列表--------------------------------------------------\n",
      "[80, 44, 50, 85, 43, 17, 73, 72, 1, 93, 30, 2, 94, 16, 76, 95, 62, 52, 20, 92, 19, 33, 59, 96, 28, 38, 36, 18, 66, 86, 81, 37, 41, 70, 88, 47, 12, 8, 67, 48, 32, 87, 27, 13, 77, 42, 60, 83, 6, 84, 71, 3, 61, 45, 69, 24, 68, 53, 31, 26, 25, 64, 21, 46, 63, 5, 99, 78, 65, 79, 35, 39, 57, 82, 40, 4, 90, 10, 14, 29, 15, 0, 22, 7, 98, 97, 74, 55, 34, 89, 49, 56, 23, 91, 75, 9, 54, 58, 51, 11]\n",
      "--------------------------------------------------使用sort排序--------------------------------------------------\n",
      "[0, 1, 2, 3, 4, 5, 6, 7, 8, 9, 10, 11, 12, 13, 14, 15, 16, 17, 18, 19, 20, 21, 22, 23, 24, 25, 26, 27, 28, 29, 30, 31, 32, 33, 34, 35, 36, 37, 38, 39, 40, 41, 42, 43, 44, 45, 46, 47, 48, 49, 50, 51, 52, 53, 54, 55, 56, 57, 58, 59, 60, 61, 62, 63, 64, 65, 66, 67, 68, 69, 70, 71, 72, 73, 74, 75, 76, 77, 78, 79, 80, 81, 82, 83, 84, 85, 86, 87, 88, 89, 90, 91, 92, 93, 94, 95, 96, 97, 98, 99]\n",
      "--------------------------------------------------生成随机列表--------------------------------------------------\n",
      "[38, 21, 1, 96, 57, 42, 41, 2, 23, 65, 27, 43, 85, 16, 69, 90, 17, 0, 58, 68, 40, 12, 80, 45, 62, 35, 30, 82, 24, 32, 49, 46, 54, 51, 50, 86, 91, 83, 66, 59, 67, 28, 87, 9, 34, 11, 73, 18, 47, 7, 53, 71, 44, 78, 3, 79, 88, 64, 56, 92, 98, 10, 39, 75, 6, 13, 22, 37, 94, 76, 72, 63, 5, 25, 36, 33, 81, 93, 8, 20, 14, 60, 55, 97, 29, 19, 4, 61, 52, 99, 70, 26, 31, 95, 89, 77, 84, 48, 15, 74]\n",
      "--------------------------------------------------使用冒泡排序第一种--------------------------------------------------\n",
      "[0, 1, 2, 3, 4, 5, 6, 7, 8, 9, 10, 11, 12, 13, 14, 15, 16, 17, 18, 19, 20, 21, 22, 23, 24, 25, 26, 27, 28, 29, 30, 31, 32, 33, 34, 35, 36, 37, 38, 39, 40, 41, 42, 43, 44, 45, 46, 47, 48, 49, 50, 51, 52, 53, 54, 55, 56, 57, 58, 59, 60, 61, 62, 63, 64, 65, 66, 67, 68, 69, 70, 71, 72, 73, 74, 75, 76, 77, 78, 79, 80, 81, 82, 83, 84, 85, 86, 87, 88, 89, 90, 91, 92, 93, 94, 95, 96, 97, 98, 99]\n",
      "--------------------------------------------------生成随机列表--------------------------------------------------\n",
      "[72, 6, 38, 39, 10, 4, 78, 64, 92, 89, 32, 9, 41, 77, 15, 59, 88, 3, 36, 91, 96, 19, 67, 95, 56, 99, 0, 65, 24, 51, 33, 82, 79, 26, 42, 53, 8, 62, 20, 5, 16, 40, 66, 7, 34, 18, 86, 60, 43, 75, 30, 63, 57, 76, 11, 31, 46, 25, 22, 54, 35, 71, 98, 52, 84, 93, 50, 21, 58, 49, 13, 55, 44, 1, 37, 45, 83, 90, 28, 17, 70, 94, 81, 2, 23, 27, 47, 97, 73, 80, 68, 61, 29, 85, 87, 48, 69, 74, 14, 12]\n",
      "--------------------------------------------------使用冒泡排序第二种--------------------------------------------------\n",
      "[0, 1, 2, 3, 4, 5, 6, 7, 8, 9, 10, 11, 12, 13, 14, 15, 16, 17, 18, 19, 20, 21, 22, 23, 24, 25, 26, 27, 28, 29, 30, 31, 32, 33, 34, 35, 36, 37, 38, 39, 40, 41, 42, 43, 44, 45, 46, 47, 48, 49, 50, 51, 52, 53, 54, 55, 56, 57, 58, 59, 60, 61, 62, 63, 64, 65, 66, 67, 68, 69, 70, 71, 72, 73, 74, 75, 76, 77, 78, 79, 80, 81, 82, 83, 84, 85, 86, 87, 88, 89, 90, 91, 92, 93, 94, 95, 96, 97, 98, 99]\n"
     ]
    }
   ],
   "source": [
    "import random\n",
    "\n",
    "print(\"{}{}{}\".format(\"-\"*50, \"生成随机列表\", \"-\"*50))\n",
    "lst = list(range(100))\n",
    "random.shuffle(lst)\n",
    "print(lst)\n",
    "\n",
    "\n",
    "print(\"{}{}{}\".format(\"-\"*50, \"使用sort排序\", \"-\"*50))\n",
    "lst.sort()\n",
    "print(lst)\n",
    "\n",
    "\n",
    "print(\"{}{}{}\".format(\"-\"*50, \"生成随机列表\", \"-\"*50))\n",
    "lst = list(range(100))\n",
    "random.shuffle(lst)\n",
    "print(lst)\n",
    "\n",
    "print(\"{}{}{}\".format(\"-\"*50, \"使用冒泡排序第一种\", \"-\"*50))\n",
    "for n in range(len(lst)-1,0,-1):\n",
    "    for i in range(n):\n",
    "        if lst[i] > lst[i+1]:\n",
    "            cur = lst[i]\n",
    "            lst[i] = lst[i+1]\n",
    "            lst[i+1] = cur   \n",
    "print(lst)\n",
    "\n",
    "print(\"{}{}{}\".format(\"-\"*50, \"生成随机列表\", \"-\"*50))\n",
    "lst = list(range(100))\n",
    "random.shuffle(lst)\n",
    "print(lst)\n",
    "\n",
    "print(\"{}{}{}\".format(\"-\"*50, \"使用冒泡排序第二种\", \"-\"*50))  \n",
    "# 这里的优化就是如果只有中间有一次排序没有发生变化，那么，就可以退出循环了\n",
    "for n in range(len(lst)-1,0,-1):\n",
    "    flag = False\n",
    "    for i in range(n):\n",
    "        if lst[i] > lst[i+1]:\n",
    "            cur = lst[i]\n",
    "            lst[i] = lst[i+1]\n",
    "            lst[i+1] = cur\n",
    "            flag = True\n",
    "    if not flag:\n",
    "        break\n",
    "        \n",
    "print(lst)\n",
    "        \n",
    "        \n",
    "        "
   ]
  },
  {
   "cell_type": "markdown",
   "metadata": {},
   "source": [
    "### （四）字符串"
   ]
  },
  {
   "cell_type": "code",
   "execution_count": 60,
   "metadata": {},
   "outputs": [
    {
     "data": {
      "text/plain": [
       "'c'"
      ]
     },
     "execution_count": 60,
     "metadata": {},
     "output_type": "execute_result"
    }
   ],
   "source": [
    "str1 = 'abc'\n",
    "str1[2]"
   ]
  },
  {
   "cell_type": "code",
   "execution_count": 29,
   "metadata": {},
   "outputs": [],
   "source": [
    "tpl = tuple(str1)"
   ]
  },
  {
   "cell_type": "code",
   "execution_count": 30,
   "metadata": {},
   "outputs": [],
   "source": [
    "lst = list(str1)\n",
    "\n",
    "\n",
    "          "
   ]
  },
  {
   "cell_type": "code",
   "execution_count": 31,
   "metadata": {},
   "outputs": [
    {
     "name": "stdout",
     "output_type": "stream",
     "text": [
      "('a', 'b', 'c')\n"
     ]
    }
   ],
   "source": [
    "print(tpl)"
   ]
  },
  {
   "cell_type": "code",
   "execution_count": 61,
   "metadata": {},
   "outputs": [
    {
     "data": {
      "text/plain": [
       "'a*b*c'"
      ]
     },
     "execution_count": 61,
     "metadata": {},
     "output_type": "execute_result"
    }
   ],
   "source": [
    "lst = ['a', 'b', 'c']\n",
    "\"*\".join(lst)"
   ]
  },
  {
   "cell_type": "code",
   "execution_count": 34,
   "metadata": {},
   "outputs": [
    {
     "data": {
      "text/plain": [
       "'a b c'"
      ]
     },
     "execution_count": 34,
     "metadata": {},
     "output_type": "execute_result"
    }
   ],
   "source": [
    "# join()方法，将join中的可迭代对象连接起来，成为一个字符串\n",
    "\" \".join(lst)"
   ]
  },
  {
   "cell_type": "code",
   "execution_count": 46,
   "metadata": {},
   "outputs": [],
   "source": [
    "# split()方法，将字符串切割为列表，如果不指定分隔符，那么默认的分隔符是空白，同时也可以指定切割的次数\n",
    "str1 = 'a b c d e'"
   ]
  },
  {
   "cell_type": "code",
   "execution_count": 48,
   "metadata": {},
   "outputs": [
    {
     "data": {
      "text/plain": [
       "['a', 'b', 'c', 'd', 'e']"
      ]
     },
     "execution_count": 48,
     "metadata": {},
     "output_type": "execute_result"
    }
   ],
   "source": [
    "str1 = 'a b c d e'\n",
    "str1.split(' ')"
   ]
  },
  {
   "cell_type": "code",
   "execution_count": 49,
   "metadata": {},
   "outputs": [
    {
     "data": {
      "text/plain": [
       "['a', 'b', 'c d e']"
      ]
     },
     "execution_count": 49,
     "metadata": {},
     "output_type": "execute_result"
    }
   ],
   "source": [
    "# 这里表示切割两次，因此是三段\n",
    "str1.split(\" \",2)  \n"
   ]
  },
  {
   "cell_type": "code",
   "execution_count": 50,
   "metadata": {},
   "outputs": [
    {
     "data": {
      "text/plain": [
       "['a b c', 'd', 'e']"
      ]
     },
     "execution_count": 50,
     "metadata": {},
     "output_type": "execute_result"
    }
   ],
   "source": [
    "str1.rsplit(\" \",2) # 表示从后开始查找切割的次数"
   ]
  },
  {
   "cell_type": "code",
   "execution_count": 51,
   "metadata": {},
   "outputs": [],
   "source": [
    "# 按照换行符为切割符号\n",
    "str2 = \"abc\\nasdf\\nas\\t\"\n",
    "str2.splitlines()  "
   ]
  },
  {
   "cell_type": "code",
   "execution_count": 53,
   "metadata": {},
   "outputs": [
    {
     "data": {
      "text/plain": [
       "['abc', 'asdf', 'as\\t']"
      ]
     },
     "execution_count": 53,
     "metadata": {},
     "output_type": "execute_result"
    }
   ],
   "source": [
    "str2.splitlines()  # 按照换行符为切割符号\n"
   ]
  },
  {
   "cell_type": "code",
   "execution_count": 58,
   "metadata": {},
   "outputs": [
    {
     "data": {
      "text/plain": [
       "('ab,', ' ', ',d,e')"
      ]
     },
     "execution_count": 58,
     "metadata": {},
     "output_type": "execute_result"
    }
   ],
   "source": [
    "# partition()方法，返回一个元组，在partition()指定切割的切割符号, 中间的那个元素一定是分隔符\n",
    "str1 = \"ab, ,d,e\"\n",
    "str1.partition(' ')\n"
   ]
  },
  {
   "cell_type": "code",
   "execution_count": 63,
   "metadata": {},
   "outputs": [
    {
     "data": {
      "text/plain": [
       "[\"I'm\", 'a', 'super', 'student.']"
      ]
     },
     "execution_count": 63,
     "metadata": {},
     "output_type": "execute_result"
    }
   ],
   "source": [
    "# rpartition()方法，也是从右至左\n",
    "str1 = \"ab, ,d,e\"\n",
    "str1.partition(' ')\n"
   ]
  },
  {
   "cell_type": "code",
   "execution_count": 15,
   "metadata": {},
   "outputs": [
    {
     "data": {
      "text/plain": [
       "'python.baidu.com'"
      ]
     },
     "execution_count": 15,
     "metadata": {},
     "output_type": "execute_result"
    }
   ],
   "source": [
    "# replace()在字符串中找到旧的子串替换为新的子串，返回新的字符串\n",
    "# 找到原始字符串的w子串，替换为p子串，替换两处\n",
    "'www.baidu.com'.replace('w','p',2)  \n",
    "'www.baidu.com'.replace('www','python',1)  "
   ]
  },
  {
   "cell_type": "code",
   "execution_count": 16,
   "metadata": {},
   "outputs": [
    {
     "data": {
      "text/plain": [
       "'hello  world'"
      ]
     },
     "execution_count": 16,
     "metadata": {},
     "output_type": "execute_result"
    }
   ],
   "source": [
    "# strip()方法，去掉空白字符\n",
    "'     hello  world    '.strip()"
   ]
  },
  {
   "cell_type": "code",
   "execution_count": 20,
   "metadata": {},
   "outputs": [
    {
     "data": {
      "text/plain": [
       "23"
      ]
     },
     "execution_count": 20,
     "metadata": {},
     "output_type": "execute_result"
    }
   ],
   "source": [
    "#find()方法，返回子串的索引，返回-1，表示没有找到\n",
    "\n",
    "'i am very very very good'.find('v', 1) # 从索引1开始找，v是第五个索引的位置\n",
    "'i am very very very good'.find('v', 6) # 从索引6开始找，v是第十个索引的位置\n",
    "'i am very very very good'.find('d', -1) "
   ]
  },
  {
   "cell_type": "code",
   "execution_count": 72,
   "metadata": {},
   "outputs": [
    {
     "data": {
      "text/plain": [
       "25"
      ]
     },
     "execution_count": 72,
     "metadata": {},
     "output_type": "execute_result"
    }
   ],
   "source": [
    "# index() 方法 与 find()差不多\n",
    "s = \"I am very very very sorry\" \n",
    "s.index('very')\n",
    "s.index('very', 5)\n",
    "\n"
   ]
  },
  {
   "cell_type": "code",
   "execution_count": 21,
   "metadata": {},
   "outputs": [
    {
     "data": {
      "text/plain": [
       "2"
      ]
     },
     "execution_count": 21,
     "metadata": {},
     "output_type": "execute_result"
    }
   ],
   "source": [
    "# count()函数统计字符串的出现的次数\n",
    "'niubi'.count('i')"
   ]
  },
  {
   "cell_type": "code",
   "execution_count": 22,
   "metadata": {},
   "outputs": [
    {
     "data": {
      "text/plain": [
       "True"
      ]
     },
     "execution_count": 22,
     "metadata": {},
     "output_type": "execute_result"
    }
   ],
   "source": [
    "# endswith()方法，判断是否是以某个字符串结尾\n",
    "# startswith()方法，判断是否是以某个字符串开头\n",
    "'i am very very very good'.startswith('very', 5)"
   ]
  },
  {
   "cell_type": "code",
   "execution_count": 24,
   "metadata": {},
   "outputs": [
    {
     "data": {
      "text/plain": [
       "True"
      ]
     },
     "execution_count": 24,
     "metadata": {},
     "output_type": "execute_result"
    }
   ],
   "source": [
    "'i am very very very good'.endswith('good', 5)\n",
    "\n",
    "\n",
    "\n",
    "isalnum()     \n",
    "isalpha()      \n",
    "isdecimal()           \n",
    "isdigit()       \n",
    "isidentifier()                             \n",
    "islower()       \n",
    "isupper()       \n",
    "isspace()          "
   ]
  },
  {
   "cell_type": "code",
   "execution_count": 32,
   "metadata": {},
   "outputs": [
    {
     "data": {
      "text/plain": [
       "True"
      ]
     },
     "execution_count": 32,
     "metadata": {},
     "output_type": "execute_result"
    }
   ],
   "source": [
    "# is类方法\n",
    "'sdfas001'.isidentifier() # 判断是否命名规范\n",
    " endswith(suffix[, start[, end]]) -> bool"
   ]
  },
  {
   "cell_type": "markdown",
   "metadata": {},
   "source": [
    "### （五）字符串格式化---C语言风格"
   ]
  },
  {
   "cell_type": "code",
   "execution_count": 49,
   "metadata": {},
   "outputs": [
    {
     "data": {
      "text/plain": [
       "'I am 0000000000020'"
      ]
     },
     "execution_count": 49,
     "metadata": {},
     "output_type": "execute_result"
    }
   ],
   "source": [
    "\"I am %013d\" % 20"
   ]
  },
  {
   "cell_type": "code",
   "execution_count": 43,
   "metadata": {},
   "outputs": [
    {
     "data": {
      "text/plain": [
       "'I am 20%'"
      ]
     },
     "execution_count": 43,
     "metadata": {},
     "output_type": "execute_result"
    }
   ],
   "source": [
    "\"I am %d%%\" % 20\n"
   ]
  },
  {
   "cell_type": "code",
   "execution_count": 34,
   "metadata": {},
   "outputs": [
    {
     "data": {
      "text/plain": [
       "'I am 0000000000020'"
      ]
     },
     "execution_count": 34,
     "metadata": {},
     "output_type": "execute_result"
    }
   ],
   "source": [
    "\n",
    "\"I am %013d\" % (20,)"
   ]
  },
  {
   "cell_type": "code",
   "execution_count": 39,
   "metadata": {},
   "outputs": [
    {
     "data": {
      "text/plain": [
       "'I am 0000000000020             21'"
      ]
     },
     "execution_count": 39,
     "metadata": {},
     "output_type": "execute_result"
    }
   ],
   "source": [
    "\"I am %013d  % 13d\" % (20,21)"
   ]
  },
  {
   "cell_type": "code",
   "execution_count": 47,
   "metadata": {},
   "outputs": [
    {
     "data": {
      "text/plain": [
       "'89.77% , 0xa, 0X0F'"
      ]
     },
     "execution_count": 47,
     "metadata": {},
     "output_type": "execute_result"
    }
   ],
   "source": [
    "'%.2f%% , 0x%x, 0X%02X' % (89.7654, 10, 15) # 这里是小数点，十六进制大小写的示例"
   ]
  },
  {
   "cell_type": "code",
   "execution_count": 48,
   "metadata": {},
   "outputs": [
    {
     "data": {
      "text/plain": [
       "'I am 20   '"
      ]
     },
     "execution_count": 48,
     "metadata": {},
     "output_type": "execute_result"
    }
   ],
   "source": [
    "# 符号是左对齐\n",
    "\"I am %-5d\" % (20,)  "
   ]
  },
  {
   "cell_type": "markdown",
   "metadata": {},
   "source": [
    "### （五）字符串格式化---format语言风格"
   ]
  },
  {
   "cell_type": "code",
   "execution_count": 50,
   "metadata": {},
   "outputs": [
    {
     "data": {
      "text/plain": [
       "'192.168.1.100:8888'"
      ]
     },
     "execution_count": 50,
     "metadata": {},
     "output_type": "execute_result"
    }
   ],
   "source": [
    "\"{}:{}\".format('192.168.1.100',8888) # 位置参数"
   ]
  },
  {
   "cell_type": "code",
   "execution_count": 51,
   "metadata": {},
   "outputs": [
    {
     "data": {
      "text/plain": [
       "'Web Server Info :  192.168.1.100:8888'"
      ]
     },
     "execution_count": 51,
     "metadata": {},
     "output_type": "execute_result"
    }
   ],
   "source": [
    "\"{server} {1}:{0}\".format(8888, '192.168.1.100', server='Web Server Info : ')  # 位置参数和关键字参数"
   ]
  },
  {
   "cell_type": "code",
   "execution_count": 54,
   "metadata": {},
   "outputs": [
    {
     "data": {
      "text/plain": [
       "'www.baidu.com'"
      ]
     },
     "execution_count": 54,
     "metadata": {},
     "output_type": "execute_result"
    }
   ],
   "source": [
    "\"{0[0]}.{0[1]}.{0[2]}\".format(('www','baidu','com'))"
   ]
  },
  {
   "cell_type": "code",
   "execution_count": 87,
   "metadata": {},
   "outputs": [
    {
     "data": {
      "text/plain": [
       "'***********centered***********'"
      ]
     },
     "execution_count": 87,
     "metadata": {},
     "output_type": "execute_result"
    }
   ],
   "source": [
    "'{:*^30}'.format('centered')  "
   ]
  },
  {
   "cell_type": "code",
   "execution_count": 85,
   "metadata": {},
   "outputs": [
    {
     "data": {
      "text/plain": [
       "'3*2=6   '"
      ]
     },
     "execution_count": 85,
     "metadata": {},
     "output_type": "execute_result"
    }
   ],
   "source": [
    "'{0}*{1}={2:<4}'.format(3,2,2*3)"
   ]
  },
  {
   "cell_type": "code",
   "execution_count": 88,
   "metadata": {},
   "outputs": [
    {
     "data": {
      "text/plain": [
       "'int: 42; hex: 2a; oct: 52; bin: 101010'"
      ]
     },
     "execution_count": 88,
     "metadata": {},
     "output_type": "execute_result"
    }
   ],
   "source": [
    "\"int: {0:d}; hex: {0:x}; oct: {0:o}; bin: {0:b}\".format(42)"
   ]
  },
  {
   "cell_type": "code",
   "execution_count": 89,
   "metadata": {},
   "outputs": [
    {
     "data": {
      "text/plain": [
       "'int: 42; hex: 0x2a; oct: 0o52; bin: 0b101010'"
      ]
     },
     "execution_count": 89,
     "metadata": {},
     "output_type": "execute_result"
    }
   ],
   "source": [
    "\"int: {0:d}; hex: {0:#x}; oct: {0:#o}; bin: {0:#b}\".format(42)"
   ]
  },
  {
   "cell_type": "code",
   "execution_count": 91,
   "metadata": {},
   "outputs": [
    {
     "data": {
      "text/plain": [
       "'C0A82B0A'"
      ]
     },
     "execution_count": 91,
     "metadata": {},
     "output_type": "execute_result"
    }
   ],
   "source": [
    "octets = [192, 168, 43, 10]\n",
    "'{:02X}{:02X}{:02X}{:02X}'.format(*octets)"
   ]
  },
  {
   "cell_type": "markdown",
   "metadata": {},
   "source": [
    "# （六）输入一个数字\n",
    "1：判断是几位数\n",
    "2：打印每一位数字及其重复的次数\n",
    "3：一次打印每一位数字，顺序为个、十、百、千、万"
   ]
  },
  {
   "cell_type": "code",
   "execution_count": 4,
   "metadata": {},
   "outputs": [
    {
     "name": "stdout",
     "output_type": "stream",
     "text": [
      "请输入一个数: 1234234234234234\n",
      "the length of 1234234234234234 is 16\n",
      "1234234234234234\n",
      "4 3 2 4 3 2 4 3 2 4 3 2 4 3 2 1 \n",
      "0 重复了 0 次\n",
      "1 重复了 1 次\n",
      "2 重复了 5 次\n",
      "3 重复了 5 次\n",
      "4 重复了 5 次\n",
      "5 重复了 0 次\n",
      "6 重复了 0 次\n",
      "7 重复了 0 次\n",
      "8 重复了 0 次\n",
      "9 重复了 0 次\n"
     ]
    }
   ],
   "source": [
    "while True:\n",
    "    num = input(\"请输入一个数: \").strip().lstrip(\"0\")\n",
    "    if num.isdigit():\n",
    "        break\n",
    "\n",
    "# 1：判断是几位数\n",
    "print(\"the length of {} is {}\".format(num, len(num)))\n",
    "\n",
    "print(num)\n",
    "\n",
    "# 2：倒叙打印\n",
    "for i in reversed(num):\n",
    "    print(i, end=' ')\n",
    "print()\n",
    "    \n",
    "counter = [0]*10\n",
    "\n",
    "for i in range(10):\n",
    "    counter[i] = num.count(str(i))\n",
    "\n",
    "    print(\"{} 重复了 {} 次\".format(i, counter[i]))"
   ]
  },
  {
   "cell_type": "code",
   "execution_count": 1,
   "metadata": {},
   "outputs": [
    {
     "name": "stdout",
     "output_type": "stream",
     "text": [
      "0\n"
     ]
    }
   ],
   "source": [
    "num = \"asdfaaaaa\"\n",
    "a = num.count('')\n",
    "print(a)"
   ]
  },
  {
   "cell_type": "code",
   "execution_count": null,
   "metadata": {},
   "outputs": [],
   "source": []
  },
  {
   "cell_type": "code",
   "execution_count": null,
   "metadata": {},
   "outputs": [],
   "source": []
  },
  {
   "cell_type": "code",
   "execution_count": null,
   "metadata": {},
   "outputs": [],
   "source": []
  },
  {
   "cell_type": "code",
   "execution_count": null,
   "metadata": {},
   "outputs": [],
   "source": []
  },
  {
   "cell_type": "code",
   "execution_count": null,
   "metadata": {},
   "outputs": [],
   "source": []
  },
  {
   "cell_type": "code",
   "execution_count": null,
   "metadata": {},
   "outputs": [],
   "source": []
  },
  {
   "cell_type": "code",
   "execution_count": null,
   "metadata": {},
   "outputs": [],
   "source": []
  },
  {
   "cell_type": "code",
   "execution_count": null,
   "metadata": {},
   "outputs": [],
   "source": []
  },
  {
   "cell_type": "code",
   "execution_count": null,
   "metadata": {},
   "outputs": [],
   "source": []
  },
  {
   "cell_type": "code",
   "execution_count": null,
   "metadata": {},
   "outputs": [],
   "source": []
  },
  {
   "cell_type": "code",
   "execution_count": null,
   "metadata": {},
   "outputs": [],
   "source": []
  }
 ],
 "metadata": {
  "kernelspec": {
   "display_name": "Python 3",
   "language": "python",
   "name": "python3"
  },
  "language_info": {
   "codemirror_mode": {
    "name": "ipython",
    "version": 3
   },
   "file_extension": ".py",
   "mimetype": "text/x-python",
   "name": "python",
   "nbconvert_exporter": "python",
   "pygments_lexer": "ipython3",
   "version": "3.5.3"
  }
 },
 "nbformat": 4,
 "nbformat_minor": 2
}
